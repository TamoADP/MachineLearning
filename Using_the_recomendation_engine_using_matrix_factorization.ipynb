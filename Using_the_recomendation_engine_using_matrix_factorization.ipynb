{
 "cells": [
  {
   "cell_type": "code",
   "execution_count": 6,
   "metadata": {},
   "outputs": [
    {
     "name": "stdout",
     "output_type": "stream",
     "text": [
      "Warning: Maximum number of iterations has been exceeded.\n",
      "         Current function value: 32.509226\n",
      "         Iterations: 1000\n",
      "         Function evaluations: 1494\n",
      "         Gradient evaluations: 1494\n"
     ]
    }
   ],
   "source": [
    "%run Recommendation_enginge_using_matrix_factorization_utilities.ipynb"
   ]
  },
  {
   "cell_type": "code",
   "execution_count": 7,
   "metadata": {},
   "outputs": [],
   "source": [
    "import numpy as np\n",
    "import pandas as pd"
   ]
  },
  {
   "cell_type": "code",
   "execution_count": 8,
   "metadata": {},
   "outputs": [],
   "source": [
    "raw_dataset_df = pd.read_csv(\"movie_ratings_data_set.csv\")\n",
    "movies=pd.read_csv(\"movies.csv\",index_col=\"movie_id\")"
   ]
  },
  {
   "cell_type": "code",
   "execution_count": 9,
   "metadata": {},
   "outputs": [],
   "source": [
    "ratings_df=pd.pivot_table(raw_dataset_df,index='user_id',columns='movie_id',aggfunc=np.max)"
   ]
  },
  {
   "cell_type": "code",
   "execution_count": 10,
   "metadata": {},
   "outputs": [
    {
     "name": "stdout",
     "output_type": "stream",
     "text": [
      "Warning: Maximum number of iterations has been exceeded.\n",
      "         Current function value: 32.509226\n",
      "         Iterations: 1000\n",
      "         Function evaluations: 1494\n",
      "         Gradient evaluations: 1494\n"
     ]
    }
   ],
   "source": [
    "U, M = low_rank_matrix_factorization(ratings_df.as_matrix(),\n",
    "                                                                    num_features=15,\n",
    "                                                                    regularization_amount=0.1)\n"
   ]
  },
  {
   "cell_type": "code",
   "execution_count": 11,
   "metadata": {},
   "outputs": [],
   "source": [
    "predicted_ratings = np.matmul(U, M)"
   ]
  },
  {
   "cell_type": "code",
   "execution_count": 18,
   "metadata": {},
   "outputs": [
    {
     "name": "stdout",
     "output_type": "stream",
     "text": [
      "Enter an user_id to get recommendations(Between 1 and 100):\n",
      "1\n"
     ]
    }
   ],
   "source": [
    "print (\"Enter an user_id to get recommendations(Between 1 and 100):\")\n",
    "user_id_to_search=int(input())"
   ]
  },
  {
   "cell_type": "code",
   "execution_count": 24,
   "metadata": {},
   "outputs": [
    {
     "name": "stdout",
     "output_type": "stream",
     "text": [
      "Movies previously reviewed by the user_id1:\n",
      "               title                  genre  value\n",
      "0      The Sheriff 4   crime drama, western      4\n",
      "1  Mafia Underground  crime drama, thriller      4\n",
      "2        Biker Gangs    crime drama, action      4\n",
      "3      The Sheriff 1   crime drama, western      4\n",
      "4     The Spy Family              spy drama      4\n",
      "5      The Sheriff 3   crime drama, western      5\n"
     ]
    }
   ],
   "source": [
    "print (\"Movies previously reviewed by the user_id{}:\".format(user_id_to_search))\n",
    "reviewed_movies_df=raw_dataset_df[raw_dataset_df['user_id']==user_id_to_search]\n",
    "reviewed_movies_df=reviewed_movies_df.join(movies,on='movie_id')\n",
    "print (reviewed_movies_df[['title','genre','value']])"
   ]
  },
  {
   "cell_type": "code",
   "execution_count": 26,
   "metadata": {},
   "outputs": [
    {
     "name": "stdout",
     "output_type": "stream",
     "text": [
      "Presee Enter to continue\n",
      "Movies We will recommend\n"
     ]
    }
   ],
   "source": [
    "input (\"Presee Enter to continue\")\n",
    "print(\"Movies We will recommend\")"
   ]
  },
  {
   "cell_type": "code",
   "execution_count": 34,
   "metadata": {},
   "outputs": [
    {
     "data": {
      "text/html": [
       "<div>\n",
       "<style>\n",
       "    .dataframe thead tr:only-child th {\n",
       "        text-align: right;\n",
       "    }\n",
       "\n",
       "    .dataframe thead th {\n",
       "        text-align: left;\n",
       "    }\n",
       "\n",
       "    .dataframe tbody tr th {\n",
       "        vertical-align: top;\n",
       "    }\n",
       "</style>\n",
       "<table border=\"1\" class=\"dataframe\">\n",
       "  <thead>\n",
       "    <tr style=\"text-align: right;\">\n",
       "      <th></th>\n",
       "      <th>title</th>\n",
       "      <th>genre</th>\n",
       "      <th>rating</th>\n",
       "    </tr>\n",
       "    <tr>\n",
       "      <th>movie_id</th>\n",
       "      <th></th>\n",
       "      <th></th>\n",
       "      <th></th>\n",
       "    </tr>\n",
       "  </thead>\n",
       "  <tbody>\n",
       "    <tr>\n",
       "      <th>34</th>\n",
       "      <td>The Serious Detective</td>\n",
       "      <td>detective drama</td>\n",
       "      <td>4.457186</td>\n",
       "    </tr>\n",
       "    <tr>\n",
       "      <th>3</th>\n",
       "      <td>The Sheriff 2</td>\n",
       "      <td>crime drama, western</td>\n",
       "      <td>4.155675</td>\n",
       "    </tr>\n",
       "    <tr>\n",
       "      <th>6</th>\n",
       "      <td>Attack on Earth 1</td>\n",
       "      <td>sci-fi, action</td>\n",
       "      <td>4.154358</td>\n",
       "    </tr>\n",
       "    <tr>\n",
       "      <th>8</th>\n",
       "      <td>Sci-Fi Murder Detectives</td>\n",
       "      <td>supernatural, mystery</td>\n",
       "      <td>4.100723</td>\n",
       "    </tr>\n",
       "    <tr>\n",
       "      <th>21</th>\n",
       "      <td>Political Gaffs</td>\n",
       "      <td>comedy, political satire</td>\n",
       "      <td>3.993174</td>\n",
       "    </tr>\n",
       "    <tr>\n",
       "      <th>16</th>\n",
       "      <td>Master Criminal</td>\n",
       "      <td>thriller, horror, crime drama</td>\n",
       "      <td>3.931419</td>\n",
       "    </tr>\n",
       "    <tr>\n",
       "      <th>5</th>\n",
       "      <td>The Big City Judge 2</td>\n",
       "      <td>legal drama</td>\n",
       "      <td>3.927530</td>\n",
       "    </tr>\n",
       "    <tr>\n",
       "      <th>2</th>\n",
       "      <td>The Big City Judge 1</td>\n",
       "      <td>legal drama</td>\n",
       "      <td>3.914904</td>\n",
       "    </tr>\n",
       "    <tr>\n",
       "      <th>19</th>\n",
       "      <td>Fake News about Fake News</td>\n",
       "      <td>satire, comedy</td>\n",
       "      <td>3.854550</td>\n",
       "    </tr>\n",
       "    <tr>\n",
       "      <th>10</th>\n",
       "      <td>Surrounded by Zombies 1</td>\n",
       "      <td>horror, zombie fiction</td>\n",
       "      <td>3.809425</td>\n",
       "    </tr>\n",
       "  </tbody>\n",
       "</table>\n",
       "</div>"
      ],
      "text/plain": [
       "                              title                          genre    rating\n",
       "movie_id                                                                    \n",
       "34            The Serious Detective                detective drama  4.457186\n",
       "3                     The Sheriff 2           crime drama, western  4.155675\n",
       "6                 Attack on Earth 1                 sci-fi, action  4.154358\n",
       "8          Sci-Fi Murder Detectives          supernatural, mystery  4.100723\n",
       "21                  Political Gaffs       comedy, political satire  3.993174\n",
       "16                  Master Criminal  thriller, horror, crime drama  3.931419\n",
       "5              The Big City Judge 2                    legal drama  3.927530\n",
       "2              The Big City Judge 1                    legal drama  3.914904\n",
       "19        Fake News about Fake News                 satire, comedy  3.854550\n",
       "10          Surrounded by Zombies 1         horror, zombie fiction  3.809425"
      ]
     },
     "execution_count": 34,
     "metadata": {},
     "output_type": "execute_result"
    }
   ],
   "source": [
    "user_ratings=predicted_ratings[user_id_to_search-1]\n",
    "movies['rating']=user_ratings\n",
    "movies.head(5)\n",
    "already_reviewed=reviewed_movies_df['movie_id']\n",
    "recommended_df=movies[movies.index.isin(already_reviewed) == False]\n",
    "recommended_df=recommended_df.sort_values(by=['rating'],ascending=False)\n",
    "recommended_df.head(10)"
   ]
  },
  {
   "cell_type": "code",
   "execution_count": 35,
   "metadata": {},
   "outputs": [
    {
     "data": {
      "text/plain": [
       "1"
      ]
     },
     "execution_count": 35,
     "metadata": {},
     "output_type": "execute_result"
    }
   ],
   "source": [
    "1"
   ]
  },
  {
   "cell_type": "code",
   "execution_count": null,
   "metadata": {},
   "outputs": [],
   "source": []
  }
 ],
 "metadata": {
  "kernelspec": {
   "display_name": "Python 3.6",
   "language": "python",
   "name": "python36"
  },
  "language_info": {
   "codemirror_mode": {
    "name": "ipython",
    "version": 3
   },
   "file_extension": ".py",
   "mimetype": "text/x-python",
   "name": "python",
   "nbconvert_exporter": "python",
   "pygments_lexer": "ipython3",
   "version": "3.6.3"
  }
 },
 "nbformat": 4,
 "nbformat_minor": 2
}
